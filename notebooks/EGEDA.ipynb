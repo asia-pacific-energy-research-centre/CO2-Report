{
 "cells": [
  {
   "cell_type": "markdown",
   "metadata": {},
   "source": [
    "# EGEDA cleaning script"
   ]
  },
  {
   "cell_type": "markdown",
   "metadata": {},
   "source": [
    "For cleaning the EGEDA data sent by Edito: 00_APEC_EGEDA_20190925.xlsx"
   ]
  },
  {
   "cell_type": "code",
   "execution_count": null,
   "metadata": {},
   "outputs": [],
   "source": [
    "# import packages\n",
    "\n",
    "import numpy as np\n",
    "import pandas as pd"
   ]
  },
  {
   "cell_type": "code",
   "execution_count": null,
   "metadata": {},
   "outputs": [],
   "source": [
    "# read raw data\n",
    "\n",
    "RawEGEDA = pd.read_excel('../data/raw/EGEDA/00_APEC_EGEDA_20190925.xlsx', \n",
    "                         sheet_name = None, \n",
    "                         na_values = ['x', 'X', ''])"
   ]
  },
  {
   "cell_type": "code",
   "execution_count": null,
   "metadata": {},
   "outputs": [],
   "source": [
    "# inspect a dataframe\n",
    "RawEGEDA['01_AUS'].head(2)"
   ]
  },
  {
   "cell_type": "code",
   "execution_count": null,
   "metadata": {},
   "outputs": [],
   "source": [
    "# define year range\n",
    "\n",
    "years = list(range(1980, 2017, 1))"
   ]
  },
  {
   "cell_type": "code",
   "execution_count": null,
   "metadata": {},
   "outputs": [],
   "source": [
    "df_list = []\n",
    "\n",
    "economies = RawEGEDA.keys()\n",
    "\n",
    "for economy in economies:\n",
    "    _df_economy = RawEGEDA[economy]\n",
    "    _df = pd.melt(_df_economy, \n",
    "                  id_vars=['Product Code','Item Code'], \n",
    "                  value_vars=years, \n",
    "                  var_name='Year',\n",
    "                  value_name='Value'\n",
    "                 )\n",
    "    _df['Economy'] = economy \n",
    "    df_list.append(_df)\n",
    "\n",
    "df = pd.concat(df_list)    "
   ]
  },
  {
   "cell_type": "code",
   "execution_count": null,
   "metadata": {},
   "outputs": [],
   "source": [
    "df.head(2)"
   ]
  },
  {
   "cell_type": "code",
   "execution_count": null,
   "metadata": {},
   "outputs": [],
   "source": [
    "df.info()"
   ]
  },
  {
   "cell_type": "code",
   "execution_count": null,
   "metadata": {},
   "outputs": [],
   "source": [
    "# rename using APEC approved abbreviations\n",
    "\n",
    "EconomyNames = {\n",
    "        '03_CAN':'03_CDA',\n",
    "        '20_USA':'20_USA'\n",
    "        }"
   ]
  },
  {
   "cell_type": "code",
   "execution_count": null,
   "metadata": {},
   "outputs": [],
   "source": [
    "# replace with APEC approved economy names\n",
    "\n",
    "df = df.replace(EconomyNames)"
   ]
  },
  {
   "cell_type": "code",
   "execution_count": null,
   "metadata": {},
   "outputs": [],
   "source": [
    "df.head(2)"
   ]
  },
  {
   "cell_type": "code",
   "execution_count": null,
   "metadata": {},
   "outputs": [],
   "source": [
    "## create dictionary of EGEDA Product Codes and APERC Fuel codes\n",
    "\n",
    "Fuelcodes = {\n",
    "        '1 Coal':'Coal',\n",
    "        '1.1 Hard coal':'CoalH',\n",
    "        '1.1.1 Coking coal':'CoalHC',   \n",
    "        '1.1.2 Other bituminous coal':'CoalHB',\n",
    "        '1.1.3 Sub-bituminous coal':'CoalHS',\n",
    "        '1.2 Anthracite':'CoalA',\n",
    "        '1.3 Lignite':'CoalL',\n",
    "        '1.4 Peat':'CoalO',\n",
    "        '2 Coal products':'CoalP',\n",
    "        '2.1 Coke oven coke':'CoalPC',\n",
    "        '2.2 Coke oven gas':'CoalPO',\n",
    "        '2.3 Blast furnace gas':'CoalPF',\n",
    "        '2.4 Oxygen steel furnace gas':'CoalPS',\n",
    "        '2.5 Patent fuel':'CoalPP',\n",
    "        '2.6 Coal tar':'CoalPT',\n",
    "        '2.7 BKB/PB':'CoalPB',\n",
    "        '3 Crude oil & NGL':'Oil',\n",
    "        '3.1 Crude Oil':'OilC',\n",
    "        '3.2 Natural gas liquids':'OilN',\n",
    "        '3.3 Refinery feedstocks':'OilOR',\n",
    "        '3.4 Additives/oxygenates':'OilOA',\n",
    "        '3.5 Other hydrocarbons':'OilOO',\n",
    "        '4 Petroleum products':'PetP',\n",
    "        '4.1 Gasoline':'PetPGx',\n",
    "        '4.1.1 Motor gasoline':'PetPG',\n",
    "        '4.1.2 Aviation gasoline':'PetPJG',\n",
    "        '4.2 Naphtha':'PetPN',        \n",
    "        '4.3 Jet fuel':'PetPJ',        \n",
    "        '4.3.1 Gasoline type jet fuel':'PetPJO',\n",
    "        '4.3.2 Kerosene type jet fuel':'PetPJK',\n",
    "        '4.4 Other kerosene':'PetPK',\n",
    "        '4.5 Gas/diesel oil':'PetPD',\n",
    "        '4.6 Fuel oil':'PetPF',\n",
    "        '4.7 LPG':'PetPL',        \n",
    "        '4.8 Refinery gas (not liq.)':'PetPR',        \n",
    "        '4.9 Ethane':'PetPE',        \n",
    "        '4.10 Other petroleum products':'PetPO',\n",
    "        '4.10.1 White spirit SBP':'PetPOW',\n",
    "        '4.10.2 Lubricants':'PetPOL',\n",
    "        '4.10.3 Bitumen':'PetPOB',\n",
    "        '4.10.4 Paraffin waxes':'PetPOP',\n",
    "        '4.10.4 Paraffin  waxes':'PetPOP',\n",
    "        '4.10.5 Petroleum coke':'PetPOC',\n",
    "        '4.10.6 Other products':'PetPOO',\n",
    "        '5 Gas':'Gas',        \n",
    "        '5.1 Natural gas':'GasN',\n",
    "        '5.2 LNG':'GasL',\n",
    "        '5.3 Gas works gas':'GasO',\n",
    "        '6 Hydro':'RenH',        \n",
    "        '7 Nuclear':'Nuc',        \n",
    "        '8 Geothermal, solar etc.':'RenNRE',        \n",
    "        '8.1 Geothermal power':'RenGE',\n",
    "        '8.2 Other power':'RenOO',\n",
    "        '8.2.1 Photovoltaic':'RenSE',\n",
    "        '8.2.2 Tide, wave, ocean':'RenO',\n",
    "        '8.2.3 Wind':'RenW',\n",
    "        '8.2.4 Solar':'RenSO',\n",
    "        '8.3 Geothermal heat':'RenGH',\n",
    "        '8.4 Solar heat':'RenSH',\n",
    "        '9 Others':'Oth',\n",
    "        '9.1 Fuel wood & woodwaste':'RenBSF',\n",
    "        '9.2 Bagasse':'RenBSB',\n",
    "        '9.3 Charcoal':'RenBSC',\n",
    "        '9.4 Other biomass':'RenBSO',\n",
    "        '9.5 Biogas':'RenBG',\n",
    "        '9.6 Industrial waste':'OthI',\n",
    "        '9.7 Municipal solid waste':'RenMSW',\n",
    "        '9.7.1 Municipal solid waste (renewable)':'RenBSW',\n",
    "        '9.7.2 Municipal solid waste (non-renewable)':'OthM',\n",
    "        '9.8 Liquid biofuels':'RenBL',\n",
    "        '9.8.1 Biogasoline':'RenBLE',\n",
    "        '9.8.2 Biodiesel':'RenBLD',\n",
    "        '9.8.3 Bio jet kerosene':'RenBLJ',\n",
    "        '9.8.4 Other liquid biofuels':'RenBLO',\n",
    "        '9.9 Other sources':'OthO',        \n",
    "        '10 Electricity':'Elec',\n",
    "        '11 Heat':'Heat',\n",
    "        '12 Total':'Tot',\n",
    "        '13 Total renewables':'TotRen'       \n",
    "        }"
   ]
  },
  {
   "cell_type": "code",
   "execution_count": null,
   "metadata": {},
   "outputs": [],
   "source": [
    "# code to replace fuel abbreviations\n",
    "\n",
    "df = df.replace(Fuelcodes)\n",
    "\n",
    "df = df.rename(columns = {'Product Code':'Fuel'})"
   ]
  },
  {
   "cell_type": "code",
   "execution_count": null,
   "metadata": {},
   "outputs": [],
   "source": [
    "df.head(2)"
   ]
  },
  {
   "cell_type": "code",
   "execution_count": null,
   "metadata": {},
   "outputs": [],
   "source": [
    "df['Fuel'].unique()"
   ]
  },
  {
   "cell_type": "code",
   "execution_count": null,
   "metadata": {},
   "outputs": [],
   "source": [
    "df_pivot = df.pivot_table(values='Value',index=['Economy','Year','Item Code'],columns='Fuel')"
   ]
  },
  {
   "cell_type": "code",
   "execution_count": null,
   "metadata": {},
   "outputs": [],
   "source": [
    "df_pivot['RenGE']"
   ]
  },
  {
   "cell_type": "code",
   "execution_count": null,
   "metadata": {},
   "outputs": [],
   "source": [
    "df_pivot['RenG'] = df_pivot['RenGE'].add(df_pivot['RenGH'])\n",
    "df_pivot['RenS'] = df_pivot['RenSE'].add(df_pivot['RenSH']).add(df_pivot['RenSO'])\n",
    "df_pivot['RenBS'] = (df_pivot['RenBSF']\n",
    "                     .add(df_pivot['RenBSB'])\n",
    "                     .add(df_pivot['RenBSC'])\n",
    "                     .add(df_pivot['RenBSO'])\n",
    "                    )\n",
    "df_pivot['RenB'] = df_pivot['RenBS'].add(df_pivot['RenBL']).add(df_pivot['RenBG'])"
   ]
  },
  {
   "cell_type": "code",
   "execution_count": null,
   "metadata": {},
   "outputs": [],
   "source": [
    "df_pivot.head(1)"
   ]
  },
  {
   "cell_type": "code",
   "execution_count": null,
   "metadata": {},
   "outputs": [],
   "source": [
    "stacked = df_pivot.stack()\n",
    "df_agg = pd.DataFrame(stacked,columns=['Value'])\n",
    "df_agg = df_agg.reset_index()\n",
    "df_agg = df_agg.rename({'Value':'ktoe'},axis=1)"
   ]
  },
  {
   "cell_type": "code",
   "execution_count": null,
   "metadata": {},
   "outputs": [],
   "source": [
    "conversion_to_PJ = 41.868\n",
    "#http://w.astro.berkeley.edu/~wright/fuel_energy.html\n",
    "\n",
    "df_agg['PJ'] = np.multiply(df_agg['ktoe'],conversion_to_PJ)"
   ]
  },
  {
   "cell_type": "code",
   "execution_count": null,
   "metadata": {},
   "outputs": [],
   "source": [
    "df_final = pd.melt(df_agg,id_vars=['Economy','Year','Item Code','Fuel'],\n",
    "                   value_vars=['ktoe','PJ'],\n",
    "                   var_name='Units',\n",
    "                   value_name='Value')"
   ]
  },
  {
   "cell_type": "code",
   "execution_count": null,
   "metadata": {},
   "outputs": [],
   "source": [
    "df_final.head(2)"
   ]
  },
  {
   "cell_type": "code",
   "execution_count": null,
   "metadata": {},
   "outputs": [],
   "source": [
    "# write to csv\n",
    "\n",
    "df_final.to_csv(\"../data/final/EGEDA_2019_09_25_tidy.csv\", index=False)"
   ]
  },
  {
   "cell_type": "code",
   "execution_count": null,
   "metadata": {},
   "outputs": [],
   "source": [
    "#optional: export fuel list\n",
    "\n",
    "#fuels = pd.DataFrame(dfResults.index.unique(level = -1))\n",
    "#fuels.to_csv(\"../data/final/fuel_list_2019_09_25.csv\", index = False)"
   ]
  }
 ],
 "metadata": {
  "kernelspec": {
   "display_name": "Python 3",
   "language": "python",
   "name": "python3"
  },
  "language_info": {
   "codemirror_mode": {
    "name": "ipython",
    "version": 3
   },
   "file_extension": ".py",
   "mimetype": "text/x-python",
   "name": "python",
   "nbconvert_exporter": "python",
   "pygments_lexer": "ipython3",
   "version": "3.7.3"
  }
 },
 "nbformat": 4,
 "nbformat_minor": 4
}
