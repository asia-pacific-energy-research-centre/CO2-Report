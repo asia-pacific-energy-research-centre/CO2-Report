{
 "cells": [
  {
   "cell_type": "markdown",
   "metadata": {},
   "source": [
    "# EGEDA Dashboard"
   ]
  },
  {
   "cell_type": "code",
   "execution_count": null,
   "metadata": {},
   "outputs": [],
   "source": [
    "import numpy as np\n",
    "import pandas as pd\n",
    "import param\n",
    "import panel as pn\n",
    "pn.extension()\n",
    "import hvplot.pandas"
   ]
  },
  {
   "cell_type": "code",
   "execution_count": null,
   "metadata": {},
   "outputs": [],
   "source": [
    "df = pd.read_csv('../data/EGEDA_2019_09_25_tidy.csv')"
   ]
  },
  {
   "cell_type": "code",
   "execution_count": null,
   "metadata": {},
   "outputs": [],
   "source": [
    "economies = [\n",
    "    '01_AUS',\n",
    "    '02_BD',\n",
    "    '03_CDA',\n",
    "    '04_CHL',\n",
    "    '05_PRC',\n",
    "    '06_HKC',\n",
    "    '07_INA',\n",
    "    '08_JPN',\n",
    "    '09_ROK',\n",
    "    '10_MAS',\n",
    "    '11_MEX',\n",
    "    '12_NZ',\n",
    "    '13_PNG',\n",
    "    '14_PE',\n",
    "    '15_RP',\n",
    "    '16_RUS',\n",
    "    '17_SIN',\n",
    "    '18_CT',\n",
    "    '19_THA',\n",
    "    '20_USA',\n",
    "    '21_VN']"
   ]
  },
  {
   "cell_type": "code",
   "execution_count": null,
   "metadata": {},
   "outputs": [],
   "source": [
    "df = df[(df['Year']>=1990) & (df['Year']<=2016) & (df['Units']=='PJ')]\n",
    "df = df.loc[df['Economy'].isin(economies)]\n",
    "df = df.reset_index(drop=True)\n",
    "df = df.rename({'Value':'Energy'},axis=1)"
   ]
  },
  {
   "cell_type": "code",
   "execution_count": null,
   "metadata": {},
   "outputs": [],
   "source": [
    "df.tail(2)"
   ]
  },
  {
   "cell_type": "code",
   "execution_count": null,
   "metadata": {},
   "outputs": [],
   "source": [
    "df_co2 = pd.read_csv('../data/CO2 emissions prepared.csv')"
   ]
  },
  {
   "cell_type": "code",
   "execution_count": null,
   "metadata": {},
   "outputs": [],
   "source": [
    "df_co2 = df_co2[df_co2['Item']=='Total CO2 Emission']\n",
    "df_co2 = df_co2.reset_index(drop=True)\n",
    "df_co2 = df_co2.rename({'Value':'Emissions'},axis=1)"
   ]
  },
  {
   "cell_type": "code",
   "execution_count": null,
   "metadata": {},
   "outputs": [],
   "source": [
    "df_co2.head(2)"
   ]
  },
  {
   "cell_type": "markdown",
   "metadata": {},
   "source": [
    "Create a dashboard:"
   ]
  },
  {
   "cell_type": "code",
   "execution_count": null,
   "metadata": {},
   "outputs": [],
   "source": [
    "item_codes = df['Item_Code'].unique().tolist()"
   ]
  },
  {
   "cell_type": "code",
   "execution_count": null,
   "metadata": {},
   "outputs": [],
   "source": [
    "class EGEDA(param.Parameterized):\n",
    "    economy_selector = param.ObjectSelector(default=\"05_PRC\", objects=economies)\n",
    "    item_selector = param.ObjectSelector(default=\"12 Total final energy consumption\", objects=item_codes)\n",
    "    year_range = param.Range(default=(1990, 2016), bounds=(1990, 2016))\n",
    "    show_legend = param.Boolean(True, doc=\"Show the legend\")\n",
    "    \n",
    "    ylabel = 'PJ'\n",
    "   \n",
    "    def get_energy_data(self):\n",
    "        start_date = self.year_range[0]\n",
    "        end_date = self.year_range[1]\n",
    "        economy = self.economy_selector\n",
    "        item = self.item_selector\n",
    "        mask = (df['Economy'] == economy) & (df['Year'] > start_date) & (df['Year'] <= end_date) & (df['Item_Code']==item)\n",
    "        \n",
    "        _df = df.loc[mask]\n",
    "        \n",
    "        df_pivot = _df.drop(['Economy','Units','Item_Code'],axis=1).pivot_table(index=['Year'],columns='Fuel',values='Energy')\n",
    "        df_pivot = df_pivot.reset_index(drop=False)\n",
    "        \n",
    "        return df_pivot\n",
    "    \n",
    "    def get_emissions_data(self):\n",
    "        start_date = self.year_range[0]\n",
    "        end_date = self.year_range[1]\n",
    "        economy = self.economy_selector\n",
    "        mask = (df_co2['Economy'] == economy) & (df_co2['Year'] > start_date) & (df_co2['Year'] <= end_date)  \n",
    "        \n",
    "        _df = df_co2.loc[mask]\n",
    "        \n",
    "        df_pivot = _df.drop(['Economy'],axis=1).pivot_table(index=['Year'],columns='Item',values='Emissions')\n",
    "        df_pivot = df_pivot.reset_index(drop=False)\n",
    "        \n",
    "        return df_pivot\n",
    "    \n",
    "    def get_ee_data(self):\n",
    "        energy_data  = self.get_energy_data()\n",
    "        energy_data = energy_data.set_index('Year')\n",
    "        \n",
    "        emissions_data  = self.get_emissions_data()\n",
    "        emissions_data = emissions_data.set_index('Year')\n",
    "        \n",
    "        df_merged = energy_data.join(emissions_data)\n",
    "        df_merged = df_merged.reset_index()\n",
    "        \n",
    "        return df_merged\n",
    "    \n",
    "    def energy_area(self):\n",
    "        data  = self.get_energy_data()\n",
    "        title = self.item_selector + ' in PJ' + ' for ' + self.economy_selector\n",
    "        \n",
    "        plot = data.hvplot.area(x='Year', \n",
    "                               y=['Coal','Elec','Gas','PetP','TotRen'],\n",
    "                               stacked=True, \n",
    "                               alpha=0.4,\n",
    "                               width=600,\n",
    "                               legend=self.show_legend,\n",
    "                               hover_cols='all',\n",
    "                               title=title)\n",
    "        return plot\n",
    "    \n",
    "    def emissions_plot(self):\n",
    "        data  = self.get_emissions_data()\n",
    "        title = 'Total CO2 emissions for ' + self.economy_selector\n",
    "        \n",
    "        plot = data.hvplot(x='Year', \n",
    "                           y=['Total CO2 Emission'],\n",
    "                           value_label='million tons',\n",
    "                           title=title,\n",
    "                           alpha=0.4,\n",
    "                           width=600)\n",
    "        return plot\n",
    "\n",
    "    \n",
    "    def ee_plot(self):\n",
    "        data  = self.get_ee_data()\n",
    "        title = 'Total CO2 emissions vs Total Energy for ' + self.economy_selector\n",
    "        \n",
    "        plot = data.hvplot.scatter(x='Total CO2 Emission', \n",
    "                           y='Tot',\n",
    "                           c='Year',\n",
    "                           value_label='million tons',\n",
    "                           title=title,\n",
    "                           width=600)\n",
    "        return plot\n",
    "    \n",
    "    \n",
    "    def hv_table(self):\n",
    "        data  = self.get_energy_data()\n",
    "        \n",
    "        table = data.hvplot.table(['Year', 'Coal','Elec','Gas','PetP','TotRen'], width=420)\n",
    "        return table\n",
    "    \n",
    "    def emissions_table(self):\n",
    "        data  = self.get_emissions_data()\n",
    "        \n",
    "        table = data.hvplot.table(['Year', 'Total CO2 Emission'], width=420)\n",
    "        return table\n",
    "    \n",
    "    def ee_table(self):\n",
    "        data  = self.get_ee_data()\n",
    "        \n",
    "        table = data.hvplot.table(['Year', 'Tot','Total CO2 Emission'], width=420)\n",
    "        return table\n",
    "    \n",
    "e = EGEDA(name='') "
   ]
  },
  {
   "cell_type": "code",
   "execution_count": null,
   "metadata": {},
   "outputs": [],
   "source": [
    "dashboard = pn.Column(e.param,\n",
    "                      pn.Row(e.energy_area,e.hv_table),\n",
    "                      pn.Row(e.emissions_plot,e.emissions_table),\n",
    "                      pn.Row(e.ee_plot,e.ee_table)\n",
    "                     )"
   ]
  },
  {
   "cell_type": "code",
   "execution_count": null,
   "metadata": {},
   "outputs": [],
   "source": [
    "dashboard"
   ]
  },
  {
   "cell_type": "code",
   "execution_count": null,
   "metadata": {},
   "outputs": [],
   "source": []
  },
  {
   "cell_type": "code",
   "execution_count": null,
   "metadata": {},
   "outputs": [],
   "source": []
  }
 ],
 "metadata": {
  "kernelspec": {
   "display_name": "Python 3",
   "language": "python",
   "name": "python3"
  },
  "language_info": {
   "codemirror_mode": {
    "name": "ipython",
    "version": 3
   },
   "file_extension": ".py",
   "mimetype": "text/x-python",
   "name": "python",
   "nbconvert_exporter": "python",
   "pygments_lexer": "ipython3",
   "version": "3.7.6"
  }
 },
 "nbformat": 4,
 "nbformat_minor": 4
}
