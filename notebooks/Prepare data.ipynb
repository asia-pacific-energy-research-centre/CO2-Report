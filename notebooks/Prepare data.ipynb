{
 "cells": [
  {
   "cell_type": "markdown",
   "metadata": {},
   "source": [
    "# CO2 analysis\n",
    "\n",
    "This notebook is being used to prepare data and figures for the upcoming APERC Annual CO2 Emissions Report, due for publication in June 2020. The data and results here are strictly preliminary at this point.\n",
    "\n",
    "A final interactive notebook will be made available at publication.\n",
    "\n",
    "To use this notebook:\n",
    "1. import the libraries below\n",
    "2. import the prepared data\n",
    "3. Plot all economies together\n",
    "4. Plot each economy separately. You can select either fuels or sectors."
   ]
  },
  {
   "cell_type": "code",
   "execution_count": null,
   "metadata": {},
   "outputs": [],
   "source": [
    "import numpy as np\n",
    "import pandas as pd\n",
    "import glob\n",
    "import os"
   ]
  },
  {
   "cell_type": "markdown",
   "metadata": {},
   "source": [
    "#### Prepare data"
   ]
  },
  {
   "cell_type": "code",
   "execution_count": null,
   "metadata": {},
   "outputs": [],
   "source": [
    "file_list = glob.glob('../data/CO2 raw/*-Co2r.xls')"
   ]
  },
  {
   "cell_type": "code",
   "execution_count": null,
   "metadata": {},
   "outputs": [],
   "source": [
    "economies = []\n",
    "\n",
    "for file in file_list:\n",
    "    economies_dirty = os.path.basename(file)\n",
    "    economies_dirty = economies_dirty[:-9]\n",
    "    economies.append(economies_dirty)"
   ]
  },
  {
   "cell_type": "code",
   "execution_count": null,
   "metadata": {},
   "outputs": [],
   "source": [
    "names = {\n",
    "    'AUS':'01_AUS',\n",
    "    'BRN':'02_BD',\n",
    "    'CAN':'03_CDA',\n",
    "    'CHL':'04_CHL',\n",
    "    'CHN':'05_PRC',\n",
    "    'HKG':'06_HKC',\n",
    "    'IDN':'07_INA',\n",
    "    'Jpn':'08_JPN',\n",
    "    'KOR':'09_ROK',\n",
    "    'MYS':'10_MAS',\n",
    "    'MEX':'11_MEX',\n",
    "    'NZL':'12_NZ',\n",
    "    'PNG':'13_PNG',\n",
    "    'PER':'14_PE',\n",
    "    'PHL':'15_RP',\n",
    "    'RUS':'16_RUS',\n",
    "    'SGP':'17_SG',\n",
    "    'TWN':'18_CT',\n",
    "    'THA':'19_THA',\n",
    "    'USA':'20_USA',\n",
    "    'VNM':'21_VN'\n",
    "}"
   ]
  },
  {
   "cell_type": "code",
   "execution_count": null,
   "metadata": {},
   "outputs": [],
   "source": [
    "dfs = []\n",
    "for file,economy in zip(file_list,economies):\n",
    "    #print(file)\n",
    "    _df = pd.read_excel(file,\n",
    "                      sheet_name='kt-CO2',\n",
    "                      skiprows=3,\n",
    "                        nrows=19,\n",
    "                       usecols='A:AM')\n",
    "    _df = _df.rename({'Unnamed: 0':'Item'},axis=1)\n",
    "   # _df = (_df.dropna(how=\"all\",axis=1)\n",
    "   #           .dropna(how=\"all\", axis=0)\n",
    "   #           .reset_index(drop=True)\n",
    "   #           .rename({'Unnamed: 0':'Item'},axis=1))\n",
    "    \n",
    "    _df = _df.melt(id_vars=['Item'],\n",
    "                var_name='Year',\n",
    "                value_name='Value')\n",
    "    _df['Economy'] = economy\n",
    "    dfs.append(_df)\n",
    "df = pd.concat(dfs)\n",
    "df = df.replace(names)\n",
    "df['Item'] = df['Item'].str.lstrip()\n",
    "df['Item'] = df['Item'].str.rstrip('1')\n",
    "df['Item'] = df['Item'].replace({'1.3  Gas':'1.3 Gas',\n",
    "                                 '1.1  Coal & Coal Products':'1.1 Coal & Coal Products',\n",
    "                                 '1.2  Crude Oil & Petroleum Products':'1.2 Crude Oil & Petroleum Products',\n",
    "                                 '2.1.1 Public Utilities':'2.1.1 Main Activity Producer',\n",
    "                                 '2.1.2 Auto-Generation':'2.1.2 Autoproducers',\n",
    "                                 '2.1.4 Own Use & Loss':'2.1.4 Loss & Own Use',\n",
    "                                 '1.4  Others':'1.4 Others'})\n",
    "df['Value'] = np.divide(df['Value'],1000000)\n",
    "df = df[df['Year'] >=1990]\n",
    "economies = df['Economy'].unique().tolist()\n",
    "\n",
    "df.to_csv('../data/CO2 emissions prepared.csv', index=False)"
   ]
  },
  {
   "cell_type": "code",
   "execution_count": null,
   "metadata": {},
   "outputs": [],
   "source": [
    "df.head()"
   ]
  },
  {
   "cell_type": "code",
   "execution_count": null,
   "metadata": {},
   "outputs": [],
   "source": []
  }
 ],
 "metadata": {
  "kernelspec": {
   "display_name": "Python 3",
   "language": "python",
   "name": "python3"
  },
  "language_info": {
   "codemirror_mode": {
    "name": "ipython",
    "version": 3
   },
   "file_extension": ".py",
   "mimetype": "text/x-python",
   "name": "python",
   "nbconvert_exporter": "python",
   "pygments_lexer": "ipython3",
   "version": "3.7.6"
  }
 },
 "nbformat": 4,
 "nbformat_minor": 4
}
