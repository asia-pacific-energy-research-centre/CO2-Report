{
 "cells": [
  {
   "cell_type": "markdown",
   "metadata": {},
   "source": [
    "# CO2 analysis\n",
    "\n",
    "This notebook is being used to prepare data and figures for the upcoming APERC Annual CO2 Emissions Report, due for publication in June 2020. The data and results here are strictly preliminary at this point.\n",
    "\n",
    "A final interactive notebook will be made available at publication.\n",
    "\n",
    "To use this notebook:\n",
    "1. import the libraries below\n",
    "2. import the prepared data\n",
    "3. Plot all economies together\n",
    "4. Plot each economy separately. You can select either fuels or sectors."
   ]
  },
  {
   "cell_type": "code",
   "execution_count": null,
   "metadata": {},
   "outputs": [],
   "source": [
    "import numpy as np\n",
    "import pandas as pd\n",
    "import glob\n",
    "import os\n",
    "\n",
    "import param\n",
    "import hvplot.pandas\n",
    "\n",
    "from bokeh.palettes import brewer\n",
    "from bokeh.palettes import Category20\n",
    "from bokeh.palettes import viridis\n",
    "from bokeh.palettes import inferno\n",
    "import seaborn as sns\n",
    "import matplotlib.pyplot as plt\n",
    "\n",
    "from bokeh.models import Legend\n",
    "from bokeh.plotting import figure\n",
    "\n",
    "from bokeh.plotting import figure, show, output_notebook\n",
    "from bokeh.layouts import gridplot\n",
    "\n",
    "import panel as pn\n",
    "pn.extension()\n",
    "import panel.widgets as pnw\n",
    "from matplotlib.figure import Figure\n",
    "from matplotlib.backends.backend_agg import FigureCanvas\n",
    "output_notebook()"
   ]
  },
  {
   "cell_type": "code",
   "execution_count": null,
   "metadata": {},
   "outputs": [],
   "source": [
    "sns.set(style=\"ticks\")"
   ]
  },
  {
   "cell_type": "markdown",
   "metadata": {},
   "source": [
    "### Read in prepared data:"
   ]
  },
  {
   "cell_type": "code",
   "execution_count": null,
   "metadata": {},
   "outputs": [],
   "source": [
    "df = pd.read_csv('../data/CO2 emissions prepared.csv')"
   ]
  },
  {
   "cell_type": "code",
   "execution_count": null,
   "metadata": {},
   "outputs": [],
   "source": [
    "df = df.sort_values(by='Economy')\n",
    "economies = df['Economy'].unique().tolist()\n",
    "df = df.reset_index(drop=True)"
   ]
  },
  {
   "cell_type": "markdown",
   "metadata": {},
   "source": [
    "### Plot all economies together:"
   ]
  },
  {
   "cell_type": "code",
   "execution_count": null,
   "metadata": {},
   "outputs": [],
   "source": [
    "to_plot = ['Total CO2 Emission']\n",
    "_df = df.set_index('Item')\n",
    "_df = _df.loc[to_plot]"
   ]
  },
  {
   "cell_type": "code",
   "execution_count": null,
   "metadata": {},
   "outputs": [],
   "source": [
    "df_pivot = _df.pivot_table(index=['Year'],columns='Economy',values='Value')\n",
    "df_pivot = df_pivot.reset_index(drop=False)"
   ]
  },
  {
   "cell_type": "code",
   "execution_count": null,
   "metadata": {},
   "outputs": [],
   "source": [
    "v = figure(width=1000, height=600,title='APEC',x_range=(1990, 2017)) \n",
    "names = df_pivot.drop('Year',axis=1).columns.values.tolist()\n",
    "numlines=len(names)\n",
    "\n",
    "v.varea_stack(names,x='Year', \n",
    "              color=viridis(numlines),\n",
    "              alpha=0.7,\n",
    "              muted_color=viridis(numlines), \n",
    "              muted_alpha=0.2,\n",
    "              legend_label=names, \n",
    "              source=df_pivot)\n",
    "v.legend.location = \"top_left\"\n",
    "v.legend.click_policy=\"mute\""
   ]
  },
  {
   "cell_type": "code",
   "execution_count": null,
   "metadata": {},
   "outputs": [],
   "source": [
    "show(v)"
   ]
  },
  {
   "cell_type": "markdown",
   "metadata": {},
   "source": [
    "### Stacked area"
   ]
  },
  {
   "cell_type": "code",
   "execution_count": null,
   "metadata": {},
   "outputs": [],
   "source": [
    "def stacked_area(df,things_to_plot,y_range):\n",
    "\n",
    "    df = df.loc[df['Item'].isin(things_to_plot)]\n",
    "    df = df.reset_index(drop=True)\n",
    "    df_unstacked = df.set_index(['Economy', 'Year','Item']).unstack('Item')\n",
    "    \n",
    "    figures = []\n",
    "    \n",
    "    for economy in economies:\n",
    "        _df = df_unstacked.loc[(economy,),]\n",
    "        numlines=len(_df.columns)\n",
    "        _df = _df.reset_index()\n",
    "        _df = _df.droplevel(0,axis=1)\n",
    "        _df = _df.rename({'':'Year'},axis=1)\n",
    "        names = _df.drop('Year',axis=1).columns.values.tolist()\n",
    "        \n",
    "        v = figure(width=500, \n",
    "                   height=300,\n",
    "                   title=economy,\n",
    "                   x_range=(1990, 2017),\n",
    "                   y_range=y_range\n",
    "                  ) \n",
    "        v.varea_stack(names, x='Year', \n",
    "                      #color=Category20[numlines],\n",
    "                      color=brewer[\"Accent\"][numlines],\n",
    "                      alpha=0.7,\n",
    "                      #muted_color=Category20[numlines],\n",
    "                      muted_color=brewer[\"Accent\"][numlines],\n",
    "                      muted_alpha=0.2,\n",
    "                      legend_label=names, \n",
    "                      source=_df)\n",
    "        v.legend.location = \"top_left\"\n",
    "        v.legend.click_policy=\"mute\"\n",
    "        figures.append(v)\n",
    "    \n",
    "    show(gridplot(figures, ncols=3, plot_width=400, plot_height=300))"
   ]
  },
  {
   "cell_type": "markdown",
   "metadata": {},
   "source": [
    "Two sets of plots will be created, one by fuels and one by sectors:"
   ]
  },
  {
   "cell_type": "code",
   "execution_count": null,
   "metadata": {},
   "outputs": [],
   "source": [
    "fuels= ['1.1 Coal & Coal Products',\n",
    "                 '1.2 Crude Oil & Petroleum Products',\n",
    "                 '1.3 Gas']"
   ]
  },
  {
   "cell_type": "code",
   "execution_count": null,
   "metadata": {},
   "outputs": [],
   "source": [
    "sectors= [#'2.1 Transformation Sector',\n",
    "          '2.1.1 Main Activity Producer',\n",
    "          '2.1.2 Autoproducers',\n",
    "          '2.1.3 Gas Processing',\n",
    "          '2.1.4 Loss & Own Use',\n",
    "          #'2.2 Final Energy Consumption Sector'\n",
    "          '2.2.1 Industry Sector',\n",
    "          '2.2.2 Transport Sector',\n",
    "          '2.2.3 Residential & Commercial',\n",
    "          '2.2.4 Other'\n",
    "          ]"
   ]
  },
  {
   "cell_type": "markdown",
   "metadata": {},
   "source": [
    "#### Plot by fuels:"
   ]
  },
  {
   "cell_type": "code",
   "execution_count": null,
   "metadata": {},
   "outputs": [],
   "source": [
    "stacked_area(df,fuels,(0,10000))"
   ]
  },
  {
   "cell_type": "markdown",
   "metadata": {},
   "source": [
    "#### Plot by sector:"
   ]
  },
  {
   "cell_type": "code",
   "execution_count": null,
   "metadata": {},
   "outputs": [],
   "source": [
    "stacked_area(df,sectors,(0,10000))"
   ]
  },
  {
   "cell_type": "code",
   "execution_count": null,
   "metadata": {},
   "outputs": [],
   "source": [
    "things_to_plot = sectors\n",
    "df = df.loc[df['Item'].isin(things_to_plot)]"
   ]
  },
  {
   "cell_type": "code",
   "execution_count": null,
   "metadata": {},
   "outputs": [],
   "source": [
    "df.head(2)"
   ]
  },
  {
   "cell_type": "code",
   "execution_count": null,
   "metadata": {},
   "outputs": [],
   "source": [
    "p = figure(title=\"Economy emissions by sector\")"
   ]
  },
  {
   "cell_type": "code",
   "execution_count": null,
   "metadata": {},
   "outputs": [],
   "source": [
    "color=brewer[\"Accent\"][len(things_to_plot)]\n",
    "d = dict(zip(things_to_plot,color))\n",
    "df['Color'] = df['Item'].map(d)"
   ]
  },
  {
   "cell_type": "code",
   "execution_count": null,
   "metadata": {},
   "outputs": [],
   "source": [
    "p.scatter(x='Year', y='Value', fill_color='Color', line_color='#000000', source=df, size=12)"
   ]
  },
  {
   "cell_type": "code",
   "execution_count": null,
   "metadata": {},
   "outputs": [],
   "source": [
    "show(p)"
   ]
  },
  {
   "cell_type": "code",
   "execution_count": null,
   "metadata": {},
   "outputs": [],
   "source": [
    "df1 = df.loc[(df['Item'].isin(things_to_plot)) & (df['Year']==2017)]"
   ]
  },
  {
   "cell_type": "code",
   "execution_count": null,
   "metadata": {},
   "outputs": [],
   "source": [
    "plt.figure(figsize=(18,12))\n",
    "sns.swarmplot(x=\"Item\", y=\"Value\", hue=\"Economy\", data=df1)"
   ]
  },
  {
   "cell_type": "code",
   "execution_count": null,
   "metadata": {},
   "outputs": [],
   "source": [
    "sns.relplot(x=\"Value\", y=\"Item\", hue=\"Economy\", size=\"Value\",\n",
    "            sizes=(40, 400), alpha=.7, palette=\"muted\",\n",
    "            height=6,aspect=2, data=df1)"
   ]
  },
  {
   "cell_type": "code",
   "execution_count": null,
   "metadata": {},
   "outputs": [],
   "source": [
    "plt.figure(figsize=(16,8))\n",
    "sns.stripplot(x=\"Value\", y=\"Item\", hue=\"Economy\",\n",
    "              size = 10,\n",
    "              data=df1, \n",
    "              dodge=True, \n",
    "              alpha=1, \n",
    "              zorder=1,\n",
    "              jitter=1)"
   ]
  },
  {
   "cell_type": "markdown",
   "metadata": {},
   "source": [
    "## Panel"
   ]
  },
  {
   "cell_type": "code",
   "execution_count": null,
   "metadata": {},
   "outputs": [],
   "source": [
    "import panel as pn\n",
    "pn.extension()\n",
    "import panel.widgets as pnw\n",
    "from matplotlib.figure import Figure\n",
    "from matplotlib.backends.backend_agg import FigureCanvas"
   ]
  },
  {
   "cell_type": "code",
   "execution_count": null,
   "metadata": {},
   "outputs": [],
   "source": [
    "df.head()"
   ]
  },
  {
   "cell_type": "code",
   "execution_count": null,
   "metadata": {},
   "outputs": [],
   "source": [
    "df[df['Item']=='Total CO2 Emission']"
   ]
  },
  {
   "cell_type": "code",
   "execution_count": null,
   "metadata": {},
   "outputs": [],
   "source": [
    "fuels= ['1.1 Coal & Coal Products',\n",
    "        '1.2 Crude Oil & Petroleum Products',\n",
    "        '1.3 Gas']\n",
    "\n",
    "economies = df['Economy'].unique().tolist()\n",
    "\n",
    "fuel_selector = pn.widgets.Select(name='Fuel', options=fuels)\n",
    "show_legend = pn.widgets.Checkbox(name='Show legend')\n",
    "\n",
    "int_range_slider = pn.widgets.IntRangeSlider(\n",
    "    name='Year Slider',\n",
    "    start=1990, end=2017, value=(1990, 2017), step=1)\n",
    "\n",
    "economy_selector = pn.widgets.Select(name='Economy',options=economies)\n",
    "\n",
    "title = '### Stock Price Dashboard'\n",
    "subtitle = 'This dashboard allows you to select a company and date range to see stock prices.'\n",
    "\n",
    "@pn.depends(fuel_selector.param.value,int_range_slider.param.value,show_legend.param.value)\n",
    "def get_data(fuel_selector,int_range_slider,show_legend):\n",
    "    start_date = int_range_slider[0]\n",
    "    end_date = int_range_slider[1]\n",
    "    mask = (df['Item'] == fuel_selector) & (df['Year'] > start_date) & (df['Year'] <= end_date)\n",
    "    _df = df.loc[mask]\n",
    "    \n",
    "    df_pivot = _df.pivot_table(index=['Year'],columns='Economy',values='Value')\n",
    "    df_pivot = df_pivot.reset_index(drop=False)\n",
    "    \n",
    "    v = figure(width=600, height=400,title='APEC') \n",
    "    names = df_pivot.drop('Year',axis=1).columns.values.tolist()\n",
    "    numlines=len(names)\n",
    "    \n",
    "    v.varea_stack(names,x='Year', \n",
    "                  color=viridis(numlines),\n",
    "                  alpha=0.7,\n",
    "                  muted_color=viridis(numlines), \n",
    "                  muted_alpha=0.2,\n",
    "                  legend_label=names,\n",
    "                  #x_range=(start_date,end_date),\n",
    "                  source=df_pivot)\n",
    "    v.legend.location = \"top_left\"\n",
    "    v.legend.click_policy=\"mute\"\n",
    "    \n",
    "    return v\n",
    "\n",
    "dashboard = pn.Row(pn.Column(fuel_selector,int_range_slider,show_legend,get_data))\n",
    "dashboard"
   ]
  },
  {
   "cell_type": "markdown",
   "metadata": {},
   "source": [
    "#### As a class (object)?"
   ]
  },
  {
   "cell_type": "code",
   "execution_count": null,
   "metadata": {},
   "outputs": [],
   "source": [
    "fuels= ['1.1 Coal & Coal Products',\n",
    "        '1.2 Crude Oil & Petroleum Products',\n",
    "        '1.3 Gas']\n",
    "\n",
    "sectors= ['2.1 Transformation Sector',\n",
    "          '2.1.1 Main Activity Producer',\n",
    "          '2.1.2 Autoproducers',\n",
    "          '2.1.3 Gas Processing',\n",
    "          '2.1.4 Loss & Own Use',\n",
    "          '2.2 Final Energy Consumption Sector',\n",
    "          '2.2.1 Industry Sector',\n",
    "          '2.2.2 Transport Sector',\n",
    "          '2.2.3 Residential & Commercial',\n",
    "          '2.2.4 Other'\n",
    "          ]"
   ]
  },
  {
   "cell_type": "code",
   "execution_count": null,
   "metadata": {},
   "outputs": [],
   "source": [
    "class carbon(param.Parameterized):\n",
    "    fuel_selector = param.ObjectSelector(default=\"1.1 Coal & Coal Products\", objects=fuels)\n",
    "    year_range = param.Range(default=(1990, 2017), bounds=(1990, 2017))\n",
    "    show_legend = param.Boolean(True, doc=\"Show the legend\")\n",
    "    \n",
    "    title = 'CO2 emissions'\n",
    "    xlabel = 'Years'\n",
    "    ylabel = 'Million tons'\n",
    "    \n",
    "    def get_data(self):\n",
    "        start_date = self.year_range[0]\n",
    "        end_date = self.year_range[1]\n",
    "        mask = (df['Item'] == self.fuel_selector) & (df['Year'] > start_date) & (df['Year'] <= end_date)\n",
    "        _df = df.loc[mask]\n",
    "        \n",
    "        df_pivot = _df.pivot_table(index=['Year'],columns='Economy',values='Value')\n",
    "        df_pivot = df_pivot.reset_index(drop=False)\n",
    "        \n",
    "        return df_pivot\n",
    "       \n",
    "    def hv_plot_bar(self):\n",
    "        data  = self.get_data()\n",
    "        title = 'Bar chart'\n",
    "        names = data.drop('Year',axis=1).columns.values.tolist()\n",
    "        \n",
    "        plot  = data.hvplot.bar(x ='Year', y=names, title=title,width=400, height=400, legend=False, alpha=0.4, stacked=True, rot=90)\n",
    "        #plot  = plot.options(legend_position='top')\n",
    "        return plot\n",
    "    \n",
    "    def hv_plot_area(self):\n",
    "        data  = self.get_data()\n",
    "        title = 'Area chart'\n",
    "        names = data.drop('Year',axis=1).columns.values.tolist()\n",
    "        \n",
    "        plot  = data.hvplot.area(x ='Year', y=names, title=title,width=500, height=400, legend=self.show_legend,alpha=0.4)\n",
    "        #plot  = plot.options(legend_position='bottom_right')\n",
    "        return plot\n",
    "    \n",
    "c = carbon(name='')"
   ]
  },
  {
   "cell_type": "code",
   "execution_count": null,
   "metadata": {},
   "outputs": [],
   "source": [
    "pn.Column(pn.Row(c.param,c.hv_plot_bar, c.hv_plot_area))"
   ]
  },
  {
   "cell_type": "code",
   "execution_count": null,
   "metadata": {},
   "outputs": [],
   "source": []
  },
  {
   "cell_type": "code",
   "execution_count": null,
   "metadata": {},
   "outputs": [],
   "source": []
  }
 ],
 "metadata": {
  "kernelspec": {
   "display_name": "Python 3",
   "language": "python",
   "name": "python3"
  },
  "language_info": {
   "codemirror_mode": {
    "name": "ipython",
    "version": 3
   },
   "file_extension": ".py",
   "mimetype": "text/x-python",
   "name": "python",
   "nbconvert_exporter": "python",
   "pygments_lexer": "ipython3",
   "version": "3.7.6"
  }
 },
 "nbformat": 4,
 "nbformat_minor": 4
}
